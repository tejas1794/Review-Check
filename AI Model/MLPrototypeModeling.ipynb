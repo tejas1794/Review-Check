{
 "cells": [
  {
   "cell_type": "markdown",
   "metadata": {},
   "source": [
    "# Capstone Project - ReviewCheck - Deceptive Review Analyser\n",
    "\n",
    "- Tejas Vyas\n",
    "- Pooja Vasan\n",
    "- Riddhi Thakkar\n",
    "- Manu Sihag"
   ]
  },
  {
   "cell_type": "code",
   "execution_count": 3,
   "metadata": {},
   "outputs": [],
   "source": [
    "import matplotlib.pyplot as plt\n",
    "%matplotlib inline\n",
    "from nltk.corpus import stopwords\n",
    "import pandas as pd\n",
    "from wordcloud import WordCloud, STOPWORDS , ImageColorGenerator\n",
    "from sklearn.feature_extraction.text import TfidfVectorizer\n",
    "from textblob import TextBlob\n",
    "from nltk.sentiment.vader import SentimentIntensityAnalyzer\n",
    "from sklearn.metrics import classification_report, confusion_matrix, accuracy_score, roc_auc_score\n",
    "from sklearn.feature_extraction.text import CountVectorizer\n",
    "import nltk"
   ]
  },
  {
   "cell_type": "code",
   "execution_count": 4,
   "metadata": {},
   "outputs": [
    {
     "name": "stdout",
     "output_type": "stream",
     "text": [
      "   DOC_ID       LABEL  RATING VERIFIED_PURCHASE PRODUCT_CATEGORY  PRODUCT_ID  \\\n",
      "0       1  __label1__       4                 N               PC  B00008NG7N   \n",
      "1       2  __label1__       4                 Y         Wireless  B00LH0Y3NM   \n",
      "2       3  __label1__       3                 N             Baby  B000I5UZ1Q   \n",
      "3       4  __label1__       4                 N  Office Products  B003822IRA   \n",
      "4       5  __label1__       4                 N           Beauty  B00PWSAXAM   \n",
      "\n",
      "                                       PRODUCT_TITLE  \\\n",
      "0        Targus PAUK10U Ultra Mini USB Keypad, Black   \n",
      "1  Note 3 Battery : Stalion Strength Replacement ...   \n",
      "2       Fisher-Price Papasan Cradle Swing, Starlight   \n",
      "3  Casio MS-80B Standard Function Desktop Calculator   \n",
      "4  Shine Whitening - Zero Peroxide Teeth Whitenin...   \n",
      "\n",
      "               REVIEW_TITLE  \\\n",
      "0                    useful   \n",
      "1     New era for batteries   \n",
      "2  doesn't swing very well.   \n",
      "3          Great computing!   \n",
      "4     Only use twice a week   \n",
      "\n",
      "                                         REVIEW_TEXT  source  \n",
      "0  When least you think so, this product will sav...  amazon  \n",
      "1  Lithium batteries are something new introduced...  amazon  \n",
      "2  I purchased this swing for my baby. She is 6 m...  amazon  \n",
      "3  I was looking for an inexpensive desk calcolat...  amazon  \n",
      "4  I only use it twice a week and the results are...  amazon  \n",
      "       DOC_ID       LABEL  RATING VERIFIED_PURCHASE PRODUCT_CATEGORY  \\\n",
      "20995   20996  __label2__       4                 Y            Shoes   \n",
      "20996   20997  __label2__       4                 Y            Shoes   \n",
      "20997   20998  __label2__       5                 Y            Shoes   \n",
      "20998   20999  __label2__       5                 Y            Shoes   \n",
      "20999   21000  __label2__       4                 Y            Shoes   \n",
      "\n",
      "       PRODUCT_ID                                      PRODUCT_TITLE  \\\n",
      "20995  B00BXYM8T8  Madden Girl Women's Gettaw Pump,Red Patent,7.5...   \n",
      "20996  B0014C2ORK  crocs Unisex Classic Clog,Khaki,6 US Men's / 8...   \n",
      "20997  B000EX8CCQ  Minnetonka Men's 703 Leather Laced Softsole Mo...   \n",
      "20998  B00748YHVE    Ariat Womens Unbridled Fatbaby 9 B Powder Brown   \n",
      "20999  B00A46KTLU  VIBRAM FIVEFINGERS SPEED XC MENS HIKING SHOES,...   \n",
      "\n",
      "                                            REVIEW_TITLE  \\\n",
      "20995                               wide width is great!   \n",
      "20996                                        Love crocs!   \n",
      "20997  I love moccasins This fit like it was custom m...   \n",
      "20998        This fit well, comfortable, best investment   \n",
      "20999             Love these shoes, except for the laces   \n",
      "\n",
      "                                             REVIEW_TEXT  source  \n",
      "20995  I bought these for work.  I have high arches, ...  amazon  \n",
      "20996  Crocs are one of only two brands of shoes that...  amazon  \n",
      "20997  I love moccasins  This fit like it was custom ...  amazon  \n",
      "20998  I wish these were a little more durable. I got...  amazon  \n",
      "20999  I've been looking for a replacement for my bel...  amazon  \n"
     ]
    }
   ],
   "source": [
    "#Amazon Data\n",
    "input_file = \"amazon_reviews.txt\"\n",
    "amazon = pd.read_csv(input_file,delimiter='\\t')\n",
    "amazon['source']='amazon'\n",
    "\n",
    "#combine all data sets\n",
    "data = pd.DataFrame()\n",
    "data = pd.concat([amazon])\n",
    "print(data.head(5))\n",
    "print(data.tail(5))"
   ]
  },
  {
   "cell_type": "markdown",
   "metadata": {},
   "source": [
    "## Data Cleanup and tokenization"
   ]
  },
  {
   "cell_type": "code",
   "execution_count": 5,
   "metadata": {},
   "outputs": [
    {
     "data": {
      "text/html": [
       "<div>\n",
       "<style scoped>\n",
       "    .dataframe tbody tr th:only-of-type {\n",
       "        vertical-align: middle;\n",
       "    }\n",
       "\n",
       "    .dataframe tbody tr th {\n",
       "        vertical-align: top;\n",
       "    }\n",
       "\n",
       "    .dataframe thead th {\n",
       "        text-align: right;\n",
       "    }\n",
       "</style>\n",
       "<table border=\"1\" class=\"dataframe\">\n",
       "  <thead>\n",
       "    <tr style=\"text-align: right;\">\n",
       "      <th></th>\n",
       "      <th>DOC_ID</th>\n",
       "      <th>LABEL</th>\n",
       "      <th>RATING</th>\n",
       "      <th>VERIFIED_PURCHASE</th>\n",
       "      <th>PRODUCT_CATEGORY</th>\n",
       "      <th>PRODUCT_ID</th>\n",
       "      <th>PRODUCT_TITLE</th>\n",
       "      <th>REVIEW_TITLE</th>\n",
       "      <th>REVIEW_TEXT</th>\n",
       "      <th>source</th>\n",
       "      <th>body_text_clean</th>\n",
       "    </tr>\n",
       "  </thead>\n",
       "  <tbody>\n",
       "    <tr>\n",
       "      <th>0</th>\n",
       "      <td>1</td>\n",
       "      <td>__label1__</td>\n",
       "      <td>4</td>\n",
       "      <td>N</td>\n",
       "      <td>PC</td>\n",
       "      <td>B00008NG7N</td>\n",
       "      <td>Targus PAUK10U Ultra Mini USB Keypad, Black</td>\n",
       "      <td>useful</td>\n",
       "      <td>When least you think so, this product will sav...</td>\n",
       "      <td>amazon</td>\n",
       "      <td>When least you think so this product will save...</td>\n",
       "    </tr>\n",
       "    <tr>\n",
       "      <th>1</th>\n",
       "      <td>2</td>\n",
       "      <td>__label1__</td>\n",
       "      <td>4</td>\n",
       "      <td>Y</td>\n",
       "      <td>Wireless</td>\n",
       "      <td>B00LH0Y3NM</td>\n",
       "      <td>Note 3 Battery : Stalion Strength Replacement ...</td>\n",
       "      <td>New era for batteries</td>\n",
       "      <td>Lithium batteries are something new introduced...</td>\n",
       "      <td>amazon</td>\n",
       "      <td>Lithium batteries are something new introduced...</td>\n",
       "    </tr>\n",
       "    <tr>\n",
       "      <th>2</th>\n",
       "      <td>3</td>\n",
       "      <td>__label1__</td>\n",
       "      <td>3</td>\n",
       "      <td>N</td>\n",
       "      <td>Baby</td>\n",
       "      <td>B000I5UZ1Q</td>\n",
       "      <td>Fisher-Price Papasan Cradle Swing, Starlight</td>\n",
       "      <td>doesn't swing very well.</td>\n",
       "      <td>I purchased this swing for my baby. She is 6 m...</td>\n",
       "      <td>amazon</td>\n",
       "      <td>I purchased this swing for my baby She is 6 mo...</td>\n",
       "    </tr>\n",
       "    <tr>\n",
       "      <th>3</th>\n",
       "      <td>4</td>\n",
       "      <td>__label1__</td>\n",
       "      <td>4</td>\n",
       "      <td>N</td>\n",
       "      <td>Office Products</td>\n",
       "      <td>B003822IRA</td>\n",
       "      <td>Casio MS-80B Standard Function Desktop Calculator</td>\n",
       "      <td>Great computing!</td>\n",
       "      <td>I was looking for an inexpensive desk calcolat...</td>\n",
       "      <td>amazon</td>\n",
       "      <td>I was looking for an inexpensive desk calcolat...</td>\n",
       "    </tr>\n",
       "    <tr>\n",
       "      <th>4</th>\n",
       "      <td>5</td>\n",
       "      <td>__label1__</td>\n",
       "      <td>4</td>\n",
       "      <td>N</td>\n",
       "      <td>Beauty</td>\n",
       "      <td>B00PWSAXAM</td>\n",
       "      <td>Shine Whitening - Zero Peroxide Teeth Whitenin...</td>\n",
       "      <td>Only use twice a week</td>\n",
       "      <td>I only use it twice a week and the results are...</td>\n",
       "      <td>amazon</td>\n",
       "      <td>I only use it twice a week and the results are...</td>\n",
       "    </tr>\n",
       "  </tbody>\n",
       "</table>\n",
       "</div>"
      ],
      "text/plain": [
       "   DOC_ID       LABEL  RATING VERIFIED_PURCHASE PRODUCT_CATEGORY  PRODUCT_ID  \\\n",
       "0       1  __label1__       4                 N               PC  B00008NG7N   \n",
       "1       2  __label1__       4                 Y         Wireless  B00LH0Y3NM   \n",
       "2       3  __label1__       3                 N             Baby  B000I5UZ1Q   \n",
       "3       4  __label1__       4                 N  Office Products  B003822IRA   \n",
       "4       5  __label1__       4                 N           Beauty  B00PWSAXAM   \n",
       "\n",
       "                                       PRODUCT_TITLE  \\\n",
       "0        Targus PAUK10U Ultra Mini USB Keypad, Black   \n",
       "1  Note 3 Battery : Stalion Strength Replacement ...   \n",
       "2       Fisher-Price Papasan Cradle Swing, Starlight   \n",
       "3  Casio MS-80B Standard Function Desktop Calculator   \n",
       "4  Shine Whitening - Zero Peroxide Teeth Whitenin...   \n",
       "\n",
       "               REVIEW_TITLE  \\\n",
       "0                    useful   \n",
       "1     New era for batteries   \n",
       "2  doesn't swing very well.   \n",
       "3          Great computing!   \n",
       "4     Only use twice a week   \n",
       "\n",
       "                                         REVIEW_TEXT  source  \\\n",
       "0  When least you think so, this product will sav...  amazon   \n",
       "1  Lithium batteries are something new introduced...  amazon   \n",
       "2  I purchased this swing for my baby. She is 6 m...  amazon   \n",
       "3  I was looking for an inexpensive desk calcolat...  amazon   \n",
       "4  I only use it twice a week and the results are...  amazon   \n",
       "\n",
       "                                     body_text_clean  \n",
       "0  When least you think so this product will save...  \n",
       "1  Lithium batteries are something new introduced...  \n",
       "2  I purchased this swing for my baby She is 6 mo...  \n",
       "3  I was looking for an inexpensive desk calcolat...  \n",
       "4  I only use it twice a week and the results are...  "
      ]
     },
     "execution_count": 5,
     "metadata": {},
     "output_type": "execute_result"
    }
   ],
   "source": [
    "import string\n",
    "def remove_punct(text):\n",
    "  text_nopunct= \"\".join ([char for char in text if char not in string.punctuation])\n",
    "  return text_nopunct\n",
    "data['body_text_clean']=data['REVIEW_TEXT'].apply(lambda x:remove_punct(x))\n",
    "data.head()"
   ]
  },
  {
   "cell_type": "code",
   "execution_count": 6,
   "metadata": {
    "scrolled": true
   },
   "outputs": [
    {
     "data": {
      "text/html": [
       "<div>\n",
       "<style scoped>\n",
       "    .dataframe tbody tr th:only-of-type {\n",
       "        vertical-align: middle;\n",
       "    }\n",
       "\n",
       "    .dataframe tbody tr th {\n",
       "        vertical-align: top;\n",
       "    }\n",
       "\n",
       "    .dataframe thead th {\n",
       "        text-align: right;\n",
       "    }\n",
       "</style>\n",
       "<table border=\"1\" class=\"dataframe\">\n",
       "  <thead>\n",
       "    <tr style=\"text-align: right;\">\n",
       "      <th></th>\n",
       "      <th>DOC_ID</th>\n",
       "      <th>LABEL</th>\n",
       "      <th>RATING</th>\n",
       "      <th>VERIFIED_PURCHASE</th>\n",
       "      <th>PRODUCT_CATEGORY</th>\n",
       "      <th>PRODUCT_ID</th>\n",
       "      <th>PRODUCT_TITLE</th>\n",
       "      <th>REVIEW_TITLE</th>\n",
       "      <th>REVIEW_TEXT</th>\n",
       "      <th>source</th>\n",
       "      <th>body_text_clean</th>\n",
       "      <th>body_text_tokenized</th>\n",
       "    </tr>\n",
       "  </thead>\n",
       "  <tbody>\n",
       "    <tr>\n",
       "      <th>0</th>\n",
       "      <td>1</td>\n",
       "      <td>__label1__</td>\n",
       "      <td>4</td>\n",
       "      <td>N</td>\n",
       "      <td>PC</td>\n",
       "      <td>B00008NG7N</td>\n",
       "      <td>Targus PAUK10U Ultra Mini USB Keypad, Black</td>\n",
       "      <td>useful</td>\n",
       "      <td>When least you think so, this product will sav...</td>\n",
       "      <td>amazon</td>\n",
       "      <td>When least you think so this product will save...</td>\n",
       "      <td>[when, least, you, think, so, this, product, w...</td>\n",
       "    </tr>\n",
       "    <tr>\n",
       "      <th>1</th>\n",
       "      <td>2</td>\n",
       "      <td>__label1__</td>\n",
       "      <td>4</td>\n",
       "      <td>Y</td>\n",
       "      <td>Wireless</td>\n",
       "      <td>B00LH0Y3NM</td>\n",
       "      <td>Note 3 Battery : Stalion Strength Replacement ...</td>\n",
       "      <td>New era for batteries</td>\n",
       "      <td>Lithium batteries are something new introduced...</td>\n",
       "      <td>amazon</td>\n",
       "      <td>Lithium batteries are something new introduced...</td>\n",
       "      <td>[lithium, batteries, are, something, new, intr...</td>\n",
       "    </tr>\n",
       "    <tr>\n",
       "      <th>2</th>\n",
       "      <td>3</td>\n",
       "      <td>__label1__</td>\n",
       "      <td>3</td>\n",
       "      <td>N</td>\n",
       "      <td>Baby</td>\n",
       "      <td>B000I5UZ1Q</td>\n",
       "      <td>Fisher-Price Papasan Cradle Swing, Starlight</td>\n",
       "      <td>doesn't swing very well.</td>\n",
       "      <td>I purchased this swing for my baby. She is 6 m...</td>\n",
       "      <td>amazon</td>\n",
       "      <td>I purchased this swing for my baby She is 6 mo...</td>\n",
       "      <td>[i, purchased, this, swing, for, my, baby, she...</td>\n",
       "    </tr>\n",
       "    <tr>\n",
       "      <th>3</th>\n",
       "      <td>4</td>\n",
       "      <td>__label1__</td>\n",
       "      <td>4</td>\n",
       "      <td>N</td>\n",
       "      <td>Office Products</td>\n",
       "      <td>B003822IRA</td>\n",
       "      <td>Casio MS-80B Standard Function Desktop Calculator</td>\n",
       "      <td>Great computing!</td>\n",
       "      <td>I was looking for an inexpensive desk calcolat...</td>\n",
       "      <td>amazon</td>\n",
       "      <td>I was looking for an inexpensive desk calcolat...</td>\n",
       "      <td>[i, was, looking, for, an, inexpensive, desk, ...</td>\n",
       "    </tr>\n",
       "    <tr>\n",
       "      <th>4</th>\n",
       "      <td>5</td>\n",
       "      <td>__label1__</td>\n",
       "      <td>4</td>\n",
       "      <td>N</td>\n",
       "      <td>Beauty</td>\n",
       "      <td>B00PWSAXAM</td>\n",
       "      <td>Shine Whitening - Zero Peroxide Teeth Whitenin...</td>\n",
       "      <td>Only use twice a week</td>\n",
       "      <td>I only use it twice a week and the results are...</td>\n",
       "      <td>amazon</td>\n",
       "      <td>I only use it twice a week and the results are...</td>\n",
       "      <td>[i, only, use, it, twice, a, week, and, the, r...</td>\n",
       "    </tr>\n",
       "  </tbody>\n",
       "</table>\n",
       "</div>"
      ],
      "text/plain": [
       "   DOC_ID       LABEL  RATING VERIFIED_PURCHASE PRODUCT_CATEGORY  PRODUCT_ID  \\\n",
       "0       1  __label1__       4                 N               PC  B00008NG7N   \n",
       "1       2  __label1__       4                 Y         Wireless  B00LH0Y3NM   \n",
       "2       3  __label1__       3                 N             Baby  B000I5UZ1Q   \n",
       "3       4  __label1__       4                 N  Office Products  B003822IRA   \n",
       "4       5  __label1__       4                 N           Beauty  B00PWSAXAM   \n",
       "\n",
       "                                       PRODUCT_TITLE  \\\n",
       "0        Targus PAUK10U Ultra Mini USB Keypad, Black   \n",
       "1  Note 3 Battery : Stalion Strength Replacement ...   \n",
       "2       Fisher-Price Papasan Cradle Swing, Starlight   \n",
       "3  Casio MS-80B Standard Function Desktop Calculator   \n",
       "4  Shine Whitening - Zero Peroxide Teeth Whitenin...   \n",
       "\n",
       "               REVIEW_TITLE  \\\n",
       "0                    useful   \n",
       "1     New era for batteries   \n",
       "2  doesn't swing very well.   \n",
       "3          Great computing!   \n",
       "4     Only use twice a week   \n",
       "\n",
       "                                         REVIEW_TEXT  source  \\\n",
       "0  When least you think so, this product will sav...  amazon   \n",
       "1  Lithium batteries are something new introduced...  amazon   \n",
       "2  I purchased this swing for my baby. She is 6 m...  amazon   \n",
       "3  I was looking for an inexpensive desk calcolat...  amazon   \n",
       "4  I only use it twice a week and the results are...  amazon   \n",
       "\n",
       "                                     body_text_clean  \\\n",
       "0  When least you think so this product will save...   \n",
       "1  Lithium batteries are something new introduced...   \n",
       "2  I purchased this swing for my baby She is 6 mo...   \n",
       "3  I was looking for an inexpensive desk calcolat...   \n",
       "4  I only use it twice a week and the results are...   \n",
       "\n",
       "                                 body_text_tokenized  \n",
       "0  [when, least, you, think, so, this, product, w...  \n",
       "1  [lithium, batteries, are, something, new, intr...  \n",
       "2  [i, purchased, this, swing, for, my, baby, she...  \n",
       "3  [i, was, looking, for, an, inexpensive, desk, ...  \n",
       "4  [i, only, use, it, twice, a, week, and, the, r...  "
      ]
     },
     "execution_count": 6,
     "metadata": {},
     "output_type": "execute_result"
    }
   ],
   "source": [
    "import re\n",
    "def tokenize(text):\n",
    "  tokens = re.split('\\W+', text)\n",
    "  return tokens\n",
    "data['body_text_tokenized']=data['body_text_clean'].apply(lambda x: tokenize(x.lower()))\n",
    "data.head()"
   ]
  },
  {
   "cell_type": "code",
   "execution_count": 7,
   "metadata": {},
   "outputs": [
    {
     "data": {
      "text/html": [
       "<div>\n",
       "<style scoped>\n",
       "    .dataframe tbody tr th:only-of-type {\n",
       "        vertical-align: middle;\n",
       "    }\n",
       "\n",
       "    .dataframe tbody tr th {\n",
       "        vertical-align: top;\n",
       "    }\n",
       "\n",
       "    .dataframe thead th {\n",
       "        text-align: right;\n",
       "    }\n",
       "</style>\n",
       "<table border=\"1\" class=\"dataframe\">\n",
       "  <thead>\n",
       "    <tr style=\"text-align: right;\">\n",
       "      <th></th>\n",
       "      <th>DOC_ID</th>\n",
       "      <th>LABEL</th>\n",
       "      <th>RATING</th>\n",
       "      <th>VERIFIED_PURCHASE</th>\n",
       "      <th>PRODUCT_CATEGORY</th>\n",
       "      <th>PRODUCT_ID</th>\n",
       "      <th>PRODUCT_TITLE</th>\n",
       "      <th>REVIEW_TITLE</th>\n",
       "      <th>REVIEW_TEXT</th>\n",
       "      <th>source</th>\n",
       "      <th>body_text_clean</th>\n",
       "      <th>body_text_tokenized</th>\n",
       "      <th>body_text_nostop</th>\n",
       "    </tr>\n",
       "  </thead>\n",
       "  <tbody>\n",
       "    <tr>\n",
       "      <th>0</th>\n",
       "      <td>1</td>\n",
       "      <td>__label1__</td>\n",
       "      <td>4</td>\n",
       "      <td>N</td>\n",
       "      <td>PC</td>\n",
       "      <td>B00008NG7N</td>\n",
       "      <td>Targus PAUK10U Ultra Mini USB Keypad, Black</td>\n",
       "      <td>useful</td>\n",
       "      <td>When least you think so, this product will sav...</td>\n",
       "      <td>amazon</td>\n",
       "      <td>When least you think so this product will save...</td>\n",
       "      <td>[when, least, you, think, so, this, product, w...</td>\n",
       "      <td>[least, think, product, save, day, keep, aroun...</td>\n",
       "    </tr>\n",
       "    <tr>\n",
       "      <th>1</th>\n",
       "      <td>2</td>\n",
       "      <td>__label1__</td>\n",
       "      <td>4</td>\n",
       "      <td>Y</td>\n",
       "      <td>Wireless</td>\n",
       "      <td>B00LH0Y3NM</td>\n",
       "      <td>Note 3 Battery : Stalion Strength Replacement ...</td>\n",
       "      <td>New era for batteries</td>\n",
       "      <td>Lithium batteries are something new introduced...</td>\n",
       "      <td>amazon</td>\n",
       "      <td>Lithium batteries are something new introduced...</td>\n",
       "      <td>[lithium, batteries, are, something, new, intr...</td>\n",
       "      <td>[lithium, batteries, something, new, introduce...</td>\n",
       "    </tr>\n",
       "    <tr>\n",
       "      <th>2</th>\n",
       "      <td>3</td>\n",
       "      <td>__label1__</td>\n",
       "      <td>3</td>\n",
       "      <td>N</td>\n",
       "      <td>Baby</td>\n",
       "      <td>B000I5UZ1Q</td>\n",
       "      <td>Fisher-Price Papasan Cradle Swing, Starlight</td>\n",
       "      <td>doesn't swing very well.</td>\n",
       "      <td>I purchased this swing for my baby. She is 6 m...</td>\n",
       "      <td>amazon</td>\n",
       "      <td>I purchased this swing for my baby She is 6 mo...</td>\n",
       "      <td>[i, purchased, this, swing, for, my, baby, she...</td>\n",
       "      <td>[purchased, swing, baby, 6, months, pretty, mu...</td>\n",
       "    </tr>\n",
       "    <tr>\n",
       "      <th>3</th>\n",
       "      <td>4</td>\n",
       "      <td>__label1__</td>\n",
       "      <td>4</td>\n",
       "      <td>N</td>\n",
       "      <td>Office Products</td>\n",
       "      <td>B003822IRA</td>\n",
       "      <td>Casio MS-80B Standard Function Desktop Calculator</td>\n",
       "      <td>Great computing!</td>\n",
       "      <td>I was looking for an inexpensive desk calcolat...</td>\n",
       "      <td>amazon</td>\n",
       "      <td>I was looking for an inexpensive desk calcolat...</td>\n",
       "      <td>[i, was, looking, for, an, inexpensive, desk, ...</td>\n",
       "      <td>[looking, inexpensive, desk, calcolatur, works...</td>\n",
       "    </tr>\n",
       "    <tr>\n",
       "      <th>4</th>\n",
       "      <td>5</td>\n",
       "      <td>__label1__</td>\n",
       "      <td>4</td>\n",
       "      <td>N</td>\n",
       "      <td>Beauty</td>\n",
       "      <td>B00PWSAXAM</td>\n",
       "      <td>Shine Whitening - Zero Peroxide Teeth Whitenin...</td>\n",
       "      <td>Only use twice a week</td>\n",
       "      <td>I only use it twice a week and the results are...</td>\n",
       "      <td>amazon</td>\n",
       "      <td>I only use it twice a week and the results are...</td>\n",
       "      <td>[i, only, use, it, twice, a, week, and, the, r...</td>\n",
       "      <td>[use, twice, week, results, great, used, teeth...</td>\n",
       "    </tr>\n",
       "  </tbody>\n",
       "</table>\n",
       "</div>"
      ],
      "text/plain": [
       "   DOC_ID       LABEL  RATING VERIFIED_PURCHASE PRODUCT_CATEGORY  PRODUCT_ID  \\\n",
       "0       1  __label1__       4                 N               PC  B00008NG7N   \n",
       "1       2  __label1__       4                 Y         Wireless  B00LH0Y3NM   \n",
       "2       3  __label1__       3                 N             Baby  B000I5UZ1Q   \n",
       "3       4  __label1__       4                 N  Office Products  B003822IRA   \n",
       "4       5  __label1__       4                 N           Beauty  B00PWSAXAM   \n",
       "\n",
       "                                       PRODUCT_TITLE  \\\n",
       "0        Targus PAUK10U Ultra Mini USB Keypad, Black   \n",
       "1  Note 3 Battery : Stalion Strength Replacement ...   \n",
       "2       Fisher-Price Papasan Cradle Swing, Starlight   \n",
       "3  Casio MS-80B Standard Function Desktop Calculator   \n",
       "4  Shine Whitening - Zero Peroxide Teeth Whitenin...   \n",
       "\n",
       "               REVIEW_TITLE  \\\n",
       "0                    useful   \n",
       "1     New era for batteries   \n",
       "2  doesn't swing very well.   \n",
       "3          Great computing!   \n",
       "4     Only use twice a week   \n",
       "\n",
       "                                         REVIEW_TEXT  source  \\\n",
       "0  When least you think so, this product will sav...  amazon   \n",
       "1  Lithium batteries are something new introduced...  amazon   \n",
       "2  I purchased this swing for my baby. She is 6 m...  amazon   \n",
       "3  I was looking for an inexpensive desk calcolat...  amazon   \n",
       "4  I only use it twice a week and the results are...  amazon   \n",
       "\n",
       "                                     body_text_clean  \\\n",
       "0  When least you think so this product will save...   \n",
       "1  Lithium batteries are something new introduced...   \n",
       "2  I purchased this swing for my baby She is 6 mo...   \n",
       "3  I was looking for an inexpensive desk calcolat...   \n",
       "4  I only use it twice a week and the results are...   \n",
       "\n",
       "                                 body_text_tokenized  \\\n",
       "0  [when, least, you, think, so, this, product, w...   \n",
       "1  [lithium, batteries, are, something, new, intr...   \n",
       "2  [i, purchased, this, swing, for, my, baby, she...   \n",
       "3  [i, was, looking, for, an, inexpensive, desk, ...   \n",
       "4  [i, only, use, it, twice, a, week, and, the, r...   \n",
       "\n",
       "                                    body_text_nostop  \n",
       "0  [least, think, product, save, day, keep, aroun...  \n",
       "1  [lithium, batteries, something, new, introduce...  \n",
       "2  [purchased, swing, baby, 6, months, pretty, mu...  \n",
       "3  [looking, inexpensive, desk, calcolatur, works...  \n",
       "4  [use, twice, week, results, great, used, teeth...  "
      ]
     },
     "execution_count": 7,
     "metadata": {},
     "output_type": "execute_result"
    }
   ],
   "source": [
    "stopword = nltk.corpus.stopwords.words('english')\n",
    "def remove_stopwords(tokenized_list):\n",
    "  text = [word for word in tokenized_list if word not in stopword]\n",
    "  return text\n",
    "\n",
    "data['body_text_nostop']=data['body_text_tokenized'].apply(lambda x: remove_stopwords(x))\n",
    "data.head()"
   ]
  },
  {
   "cell_type": "code",
   "execution_count": 8,
   "metadata": {},
   "outputs": [
    {
     "name": "stderr",
     "output_type": "stream",
     "text": [
      "[nltk_data] Downloading package wordnet to\n",
      "[nltk_data]     C:\\Users\\tejas\\AppData\\Roaming\\nltk_data...\n",
      "[nltk_data]   Package wordnet is already up-to-date!\n"
     ]
    }
   ],
   "source": [
    "nltk.download('wordnet')\n",
    "\n",
    "def basic_clean(text):\n",
    "  wnl = nltk.stem.WordNetLemmatizer()\n",
    "  stopwords = nltk.corpus.stopwords.words('english')\n",
    "  words = re.sub(r'[^\\w\\s]', '', text).split()\n",
    "  return [wnl.lemmatize(word) for word in words if word not in stopwords]"
   ]
  },
  {
   "cell_type": "code",
   "execution_count": 9,
   "metadata": {},
   "outputs": [],
   "source": [
    "data.loc[data[\"LABEL\"] == \"__label1__\", \"LABEL\"] = '1'\n",
    "data.loc[data[\"LABEL\"] == \"__label2__\", \"LABEL\"] = '0'"
   ]
  },
  {
   "cell_type": "code",
   "execution_count": 10,
   "metadata": {},
   "outputs": [
    {
     "name": "stdout",
     "output_type": "stream",
     "text": [
      "10500\n",
      "10500\n"
     ]
    }
   ],
   "source": [
    "print(len(data[data[\"LABEL\"] == \"1\"].dropna()))\n",
    "print(len(data[data[\"LABEL\"] == \"0\"].dropna()))"
   ]
  },
  {
   "cell_type": "code",
   "execution_count": 11,
   "metadata": {},
   "outputs": [
    {
     "name": "stdout",
     "output_type": "stream",
     "text": [
      "   DOC_ID LABEL  RATING VERIFIED_PURCHASE PRODUCT_CATEGORY  PRODUCT_ID  \\\n",
      "0       1     1       4                 N               PC  B00008NG7N   \n",
      "1       2     1       4                 Y         Wireless  B00LH0Y3NM   \n",
      "2       3     1       3                 N             Baby  B000I5UZ1Q   \n",
      "3       4     1       4                 N  Office Products  B003822IRA   \n",
      "4       5     1       4                 N           Beauty  B00PWSAXAM   \n",
      "\n",
      "                                       PRODUCT_TITLE  \\\n",
      "0        Targus PAUK10U Ultra Mini USB Keypad, Black   \n",
      "1  Note 3 Battery : Stalion Strength Replacement ...   \n",
      "2       Fisher-Price Papasan Cradle Swing, Starlight   \n",
      "3  Casio MS-80B Standard Function Desktop Calculator   \n",
      "4  Shine Whitening - Zero Peroxide Teeth Whitenin...   \n",
      "\n",
      "               REVIEW_TITLE  \\\n",
      "0                    useful   \n",
      "1     New era for batteries   \n",
      "2  doesn't swing very well.   \n",
      "3          Great computing!   \n",
      "4     Only use twice a week   \n",
      "\n",
      "                                         REVIEW_TEXT  source  \\\n",
      "0  When least you think so, this product will sav...  amazon   \n",
      "1  Lithium batteries are something new introduced...  amazon   \n",
      "2  I purchased this swing for my baby. She is 6 m...  amazon   \n",
      "3  I was looking for an inexpensive desk calcolat...  amazon   \n",
      "4  I only use it twice a week and the results are...  amazon   \n",
      "\n",
      "                                     body_text_clean  \\\n",
      "0  When least you think so this product will save...   \n",
      "1  Lithium batteries are something new introduced...   \n",
      "2  I purchased this swing for my baby She is 6 mo...   \n",
      "3  I was looking for an inexpensive desk calcolat...   \n",
      "4  I only use it twice a week and the results are...   \n",
      "\n",
      "                                 body_text_tokenized  \\\n",
      "0  [when, least, you, think, so, this, product, w...   \n",
      "1  [lithium, batteries, are, something, new, intr...   \n",
      "2  [i, purchased, this, swing, for, my, baby, she...   \n",
      "3  [i, was, looking, for, an, inexpensive, desk, ...   \n",
      "4  [i, only, use, it, twice, a, week, and, the, r...   \n",
      "\n",
      "                                    body_text_nostop  \n",
      "0  [least, think, product, save, day, keep, aroun...  \n",
      "1  [lithium, batteries, something, new, introduce...  \n",
      "2  [purchased, swing, baby, 6, months, pretty, mu...  \n",
      "3  [looking, inexpensive, desk, calcolatur, works...  \n",
      "4  [use, twice, week, results, great, used, teeth...  \n"
     ]
    }
   ],
   "source": [
    "print(data[data[\"LABEL\"] == \"1\"].head())"
   ]
  },
  {
   "cell_type": "markdown",
   "metadata": {},
   "source": [
    "# Setup train and test splits"
   ]
  },
  {
   "cell_type": "markdown",
   "metadata": {},
   "source": [
    "### Creating cleaned sentence list to use in vectorizers"
   ]
  },
  {
   "cell_type": "code",
   "execution_count": 12,
   "metadata": {},
   "outputs": [],
   "source": [
    "clean_sentences = []\n",
    "for l in data['body_text_nostop'].values:\n",
    "    clean_sentences.append(' '.join(l))\n",
    "#print(clean_sentences)\n",
    "y = data['LABEL']"
   ]
  },
  {
   "cell_type": "markdown",
   "metadata": {},
   "source": [
    "### Vectorization"
   ]
  },
  {
   "cell_type": "code",
   "execution_count": 13,
   "metadata": {},
   "outputs": [],
   "source": [
    "from sklearn import linear_model, model_selection\n",
    "\n",
    "sentences_train, sentences_test, y_train, y_test = model_selection.train_test_split(clean_sentences, y, test_size=0.25, random_state=42)\n",
    "#print(sentences_train)\n",
    "vectorizer = CountVectorizer(ngram_range=(1, 3))\n",
    "vectorizer.fit(sentences_train)\n",
    "X = vectorizer.transform(clean_sentences)\n",
    "X_train = vectorizer.transform(sentences_train)\n",
    "X_test  = vectorizer.transform(sentences_test)\n",
    "\n",
    "from sklearn.feature_extraction.text import TfidfTransformer\n",
    "tfidf_transform=TfidfTransformer()\n",
    "X_tfidf = tfidf_transform.fit_transform(X)\n",
    "X_train_tfidf=tfidf_transform.fit_transform(X_train)\n",
    "X_test_tfidf=tfidf_transform.fit_transform(X_test)"
   ]
  },
  {
   "cell_type": "markdown",
   "metadata": {},
   "source": [
    "# Algorithm approaches\n",
    "\n",
    "- Logistic Regression\n",
    "- Deep Learning - LSTM"
   ]
  },
  {
   "cell_type": "markdown",
   "metadata": {},
   "source": [
    "### Training"
   ]
  },
  {
   "cell_type": "code",
   "execution_count": 14,
   "metadata": {},
   "outputs": [
    {
     "name": "stderr",
     "output_type": "stream",
     "text": [
      "C:\\ProgramData\\Anaconda3\\lib\\site-packages\\sklearn\\linear_model\\_logistic.py:762: ConvergenceWarning: lbfgs failed to converge (status=1):\n",
      "STOP: TOTAL NO. of ITERATIONS REACHED LIMIT.\n",
      "\n",
      "Increase the number of iterations (max_iter) or scale the data as shown in:\n",
      "    https://scikit-learn.org/stable/modules/preprocessing.html\n",
      "Please also refer to the documentation for alternative solver options:\n",
      "    https://scikit-learn.org/stable/modules/linear_model.html#logistic-regression\n",
      "  n_iter_i = _check_optimize_result(\n"
     ]
    }
   ],
   "source": [
    "#Logistic Regression\n",
    "logRes = linear_model.LogisticRegression()\n",
    "logRes.fit(X_train, y_train)\n",
    "logResscore = logRes.score(X_test, y_test)"
   ]
  },
  {
   "cell_type": "code",
   "execution_count": 15,
   "metadata": {},
   "outputs": [],
   "source": [
    "logRes_tfidf = linear_model.LogisticRegression()\n",
    "logRes_tfidf.fit(X_train_tfidf, y_train)\n",
    "logRes_tfidf_score = logRes_tfidf.score(X_test_tfidf, y_test)"
   ]
  },
  {
   "cell_type": "code",
   "execution_count": 16,
   "metadata": {},
   "outputs": [
    {
     "name": "stdout",
     "output_type": "stream",
     "text": [
      "Logistic Regression Accuracy\n",
      "Count Vectorizer 63.03%\n",
      "TFIDF Vectorizer: 64.38%\n"
     ]
    }
   ],
   "source": [
    "print(\"Logistic Regression Accuracy\")\n",
    "print(\"Count Vectorizer\", format(logResscore,'.2%'))\n",
    "print(\"TFIDF Vectorizer:\", format(logRes_tfidf_score,'.2%'))"
   ]
  },
  {
   "cell_type": "code",
   "execution_count": 17,
   "metadata": {},
   "outputs": [
    {
     "name": "stdout",
     "output_type": "stream",
     "text": [
      "Requirement already satisfied: tensorflow_datasets in c:\\programdata\\anaconda3\\lib\\site-packages (4.1.0)\n",
      "Requirement already satisfied: tqdm in c:\\programdata\\anaconda3\\lib\\site-packages (from tensorflow_datasets) (4.47.0)\n",
      "Requirement already satisfied: future in c:\\programdata\\anaconda3\\lib\\site-packages (from tensorflow_datasets) (0.18.2)\n",
      "Requirement already satisfied: promise in c:\\programdata\\anaconda3\\lib\\site-packages (from tensorflow_datasets) (2.3)\n",
      "Requirement already satisfied: six in c:\\programdata\\anaconda3\\lib\\site-packages (from tensorflow_datasets) (1.15.0)\n",
      "Requirement already satisfied: requests>=2.19.0 in c:\\programdata\\anaconda3\\lib\\site-packages (from tensorflow_datasets) (2.24.0)\n",
      "Requirement already satisfied: absl-py in c:\\programdata\\anaconda3\\lib\\site-packages (from tensorflow_datasets) (0.10.0)\n",
      "Requirement already satisfied: tensorflow-metadata in c:\\programdata\\anaconda3\\lib\\site-packages (from tensorflow_datasets) (0.25.0)\n",
      "Requirement already satisfied: termcolor in c:\\programdata\\anaconda3\\lib\\site-packages (from tensorflow_datasets) (1.1.0)\n",
      "Requirement already satisfied: importlib-resources; python_version < \"3.9\" in c:\\programdata\\anaconda3\\lib\\site-packages (from tensorflow_datasets) (3.3.0)\n",
      "Requirement already satisfied: attrs>=18.1.0 in c:\\programdata\\anaconda3\\lib\\site-packages (from tensorflow_datasets) (19.3.0)\n",
      "Requirement already satisfied: protobuf>=3.6.1 in c:\\programdata\\anaconda3\\lib\\site-packages (from tensorflow_datasets) (3.13.0)\n",
      "Requirement already satisfied: numpy in c:\\programdata\\anaconda3\\lib\\site-packages (from tensorflow_datasets) (1.18.5)\n",
      "Requirement already satisfied: dill in c:\\programdata\\anaconda3\\lib\\site-packages (from tensorflow_datasets) (0.3.3)\n",
      "Requirement already satisfied: urllib3!=1.25.0,!=1.25.1,<1.26,>=1.21.1 in c:\\programdata\\anaconda3\\lib\\site-packages (from requests>=2.19.0->tensorflow_datasets) (1.25.9)\n",
      "Requirement already satisfied: idna<3,>=2.5 in c:\\programdata\\anaconda3\\lib\\site-packages (from requests>=2.19.0->tensorflow_datasets) (2.10)\n",
      "Requirement already satisfied: certifi>=2017.4.17 in c:\\programdata\\anaconda3\\lib\\site-packages (from requests>=2.19.0->tensorflow_datasets) (2020.6.20)\n",
      "Requirement already satisfied: chardet<4,>=3.0.2 in c:\\programdata\\anaconda3\\lib\\site-packages (from requests>=2.19.0->tensorflow_datasets) (3.0.4)\n",
      "Requirement already satisfied: googleapis-common-protos<2,>=1.52.0 in c:\\programdata\\anaconda3\\lib\\site-packages (from tensorflow-metadata->tensorflow_datasets) (1.52.0)\n",
      "Requirement already satisfied: setuptools in c:\\programdata\\anaconda3\\lib\\site-packages (from protobuf>=3.6.1->tensorflow_datasets) (49.2.0.post20200714)\n"
     ]
    }
   ],
   "source": [
    "!pip install tensorflow_datasets"
   ]
  },
  {
   "cell_type": "code",
   "execution_count": 18,
   "metadata": {},
   "outputs": [],
   "source": [
    "#LSTM\n",
    "#!pip install tensorflow_datasets\n",
    "from keras.preprocessing.sequence import pad_sequences\n",
    "from keras.models import Sequential\n",
    "from keras.layers import Embedding, LSTM, Dense, Bidirectional, Dropout\n",
    "import tensorflow_datasets as tfds\n",
    "import numpy as np\n",
    "max_length =100\n",
    "trunc_type='post'\n",
    "padding_type='post'\n",
    "#pad all Sequence\n",
    "vocab_size=1000\n",
    "\n",
    "temp_sentences=data['REVIEW_TEXT'].tolist()\n",
    "label=data['LABEL'].astype(int).tolist()\n",
    "\n",
    "tokenizer_tfds=tfds.deprecated.text.SubwordTextEncoder.build_from_corpus(temp_sentences,vocab_size,max_subword_length=5)\n",
    "for i,sent in enumerate(temp_sentences):\n",
    "    temp_sentences[i]=tokenizer_tfds.encode(sent)\n",
    "sequence_added=pad_sequences(temp_sentences,maxlen=max_length,padding =padding_type,truncating=trunc_type)\n",
    "\n",
    "training_size=int(len(temp_sentences)*0.75)\n",
    "train_seq=sequence_added[:training_size]\n",
    "train_labels=label[:training_size]\n",
    "\n",
    "test_seq=sequence_added[training_size:]\n",
    "test_labels=label[training_size:]\n",
    "\n",
    "train_labels=np.array(train_labels)\n",
    "test_labels=np.array(test_labels)\n",
    "\n",
    "def createLSTM():\n",
    "    embedding_dim=16\n",
    "    model=Sequential([\n",
    "        Embedding(1000,embedding_dim,input_length=100),\n",
    "        Bidirectional(LSTM(embedding_dim,return_sequences=True)),\n",
    "        Bidirectional(LSTM(embedding_dim)),        \n",
    "        Dense(6,activation='relu'),\n",
    "        Dense(1,activation='sigmoid')\n",
    "    ])\n",
    "    return model"
   ]
  },
  {
   "cell_type": "code",
   "execution_count": 19,
   "metadata": {},
   "outputs": [
    {
     "name": "stdout",
     "output_type": "stream",
     "text": [
      "Model: \"sequential\"\n",
      "_________________________________________________________________\n",
      "Layer (type)                 Output Shape              Param #   \n",
      "=================================================================\n",
      "embedding (Embedding)        (None, 100, 16)           16000     \n",
      "_________________________________________________________________\n",
      "bidirectional (Bidirectional (None, 100, 32)           4224      \n",
      "_________________________________________________________________\n",
      "bidirectional_1 (Bidirection (None, 32)                6272      \n",
      "_________________________________________________________________\n",
      "dense (Dense)                (None, 6)                 198       \n",
      "_________________________________________________________________\n",
      "dense_1 (Dense)              (None, 1)                 7         \n",
      "=================================================================\n",
      "Total params: 26,701\n",
      "Trainable params: 26,701\n",
      "Non-trainable params: 0\n",
      "_________________________________________________________________\n"
     ]
    }
   ],
   "source": [
    "lstm_classifier = createLSTM()\n",
    "lstm_classifier.compile(loss=\"binary_crossentropy\",optimizer='adam',metrics=['accuracy'])\n",
    "lstm_classifier.summary()"
   ]
  },
  {
   "cell_type": "code",
   "execution_count": 20,
   "metadata": {
    "scrolled": false
   },
   "outputs": [
    {
     "name": "stdout",
     "output_type": "stream",
     "text": [
      "Epoch 1/20\n",
      "493/493 [==============================] - 30s 62ms/step - loss: 0.5767 - accuracy: 0.7108 - val_loss: 1.0633 - val_accuracy: 0.3010\n",
      "Epoch 2/20\n",
      "493/493 [==============================] - 27s 55ms/step - loss: 0.5228 - accuracy: 0.7507 - val_loss: 0.9834 - val_accuracy: 0.3994\n",
      "Epoch 3/20\n",
      "493/493 [==============================] - 28s 58ms/step - loss: 0.5056 - accuracy: 0.7607 - val_loss: 0.9158 - val_accuracy: 0.4503\n",
      "Epoch 4/20\n",
      "493/493 [==============================] - 28s 56ms/step - loss: 0.4884 - accuracy: 0.7705 - val_loss: 0.9497 - val_accuracy: 0.5042\n",
      "Epoch 5/20\n",
      "493/493 [==============================] - 25s 52ms/step - loss: 0.4738 - accuracy: 0.7799 - val_loss: 1.2657 - val_accuracy: 0.3918\n",
      "Epoch 6/20\n",
      "493/493 [==============================] - 27s 54ms/step - loss: 0.4611 - accuracy: 0.7856 - val_loss: 1.0006 - val_accuracy: 0.5156\n",
      "Epoch 00006: early stopping\n",
      "165/165 [==============================] - 2s 14ms/step - loss: 1.0006 - accuracy: 0.5156\n"
     ]
    }
   ],
   "source": [
    "from keras.callbacks import EarlyStopping\n",
    "earlyStop=EarlyStopping(monitor=\"val_loss\",verbose=2,mode='min',patience=3)\n",
    "lstm_classifier.fit(train_seq,train_labels,epochs=20,validation_data=(test_seq,test_labels),callbacks=[earlyStop])\n",
    "lstm_score = lstm_classifier.evaluate(test_seq,test_labels)[1]"
   ]
  },
  {
   "cell_type": "code",
   "execution_count": 21,
   "metadata": {},
   "outputs": [
    {
     "name": "stdout",
     "output_type": "stream",
     "text": [
      "Deep Learning LSTM Accuracy\n",
      "Subword Text Encoder Accuracy 51.56%\n",
      "-----------\n"
     ]
    }
   ],
   "source": [
    "print(\"Deep Learning LSTM Accuracy\")\n",
    "print(\"Subword Text Encoder Accuracy\",format(lstm_score,'.2%'))\n",
    "print(\"-----------\")"
   ]
  },
  {
   "cell_type": "markdown",
   "metadata": {},
   "source": [
    "# AI Algorithm Analysis and Hyperparam Optimization"
   ]
  },
  {
   "cell_type": "markdown",
   "metadata": {},
   "source": [
    "## Confusion Matrices"
   ]
  },
  {
   "cell_type": "code",
   "execution_count": 22,
   "metadata": {
    "scrolled": false
   },
   "outputs": [
    {
     "name": "stdout",
     "output_type": "stream",
     "text": [
      "Confusion Matrices -\n"
     ]
    },
    {
     "data": {
      "image/png": "[encoded data removed]",
      "text/plain": [
       "<Figure size 720x216 with 4 Axes>"
      ]
     },
     "metadata": {
      "needs_background": "light"
     },
     "output_type": "display_data"
    }
   ],
   "source": [
    "from sklearn.metrics import confusion_matrix \n",
    "from sklearn.metrics import plot_confusion_matrix \n",
    "from sklearn.model_selection import GridSearchCV\n",
    "from sklearn.model_selection import cross_val_score\n",
    "\n",
    "fig = plt.figure(figsize=(10,3))\n",
    "ax1 = fig.add_subplot(1,2,1)\n",
    "ax2 = fig.add_subplot(1,2,2)\n",
    "plot_confusion_matrix(logRes, X_test, y_test, cmap=plt.cm.Greys, ax=ax1)\n",
    "plot_confusion_matrix(logRes_tfidf, X_test_tfidf, y_test, cmap=plt.cm.Greys, ax=ax2)\n",
    "ax1.set_title(\"Logistic Regression - Count\")\n",
    "ax2.set_title(\"Logistic Regression - TFIDF\")\n",
    "\n",
    "print(\"Confusion Matrices -\")"
   ]
  },
  {
   "cell_type": "markdown",
   "metadata": {},
   "source": [
    "### Other scores via Classification Report"
   ]
  },
  {
   "cell_type": "code",
   "execution_count": 23,
   "metadata": {},
   "outputs": [],
   "source": [
    "from sklearn.metrics import classification_report\n",
    "\n",
    "lr_pred = logRes.predict(X_test)\n",
    "lr_pred_tfidf = logRes_tfidf.predict(X_test_tfidf)\n"
   ]
  },
  {
   "cell_type": "code",
   "execution_count": 24,
   "metadata": {
    "scrolled": false
   },
   "outputs": [
    {
     "name": "stdout",
     "output_type": "stream",
     "text": [
      "Logistic Regression\n",
      "Count Vectorizer\n",
      "              precision    recall  f1-score   support\n",
      "\n",
      "           0       0.62      0.63      0.63      2580\n",
      "           1       0.64      0.63      0.63      2670\n",
      "\n",
      "    accuracy                           0.63      5250\n",
      "   macro avg       0.63      0.63      0.63      5250\n",
      "weighted avg       0.63      0.63      0.63      5250\n",
      "\n",
      "--\n",
      "TFIDF Vectorizer\n",
      "              precision    recall  f1-score   support\n",
      "\n",
      "           0       0.63      0.65      0.64      2580\n",
      "           1       0.65      0.63      0.64      2670\n",
      "\n",
      "    accuracy                           0.64      5250\n",
      "   macro avg       0.64      0.64      0.64      5250\n",
      "weighted avg       0.64      0.64      0.64      5250\n",
      "\n",
      "---------------------\n"
     ]
    }
   ],
   "source": [
    "print(\"Logistic Regression\")\n",
    "print(\"Count Vectorizer\")\n",
    "print(classification_report(y_test, lr_pred))\n",
    "print(\"--\")\n",
    "print(\"TFIDF Vectorizer\")\n",
    "print(classification_report(y_test, lr_pred_tfidf))\n",
    "print(\"---------------------\")"
   ]
  },
  {
   "cell_type": "code",
   "execution_count": 25,
   "metadata": {},
   "outputs": [
    {
     "name": "stdout",
     "output_type": "stream",
     "text": [
      "165/165 [==============================] - 2s 13ms/step - loss: 1.0006 - accuracy: 0.5156\n"
     ]
    },
    {
     "data": {
      "text/plain": [
       "[1.0005848407745361, 0.5156190395355225]"
      ]
     },
     "execution_count": 25,
     "metadata": {},
     "output_type": "execute_result"
    }
   ],
   "source": [
    "# print(classification_report(test_labels, lstm_classifier.predict(test_seq)))\n",
    "lstm_classifier.evaluate(test_seq,test_labels)"
   ]
  }
 ],
 "metadata": {
  "kernelspec": {
   "display_name": "Python 3",
   "language": "python",
   "name": "python3"
  },
  "language_info": {
   "codemirror_mode": {
    "name": "ipython",
    "version": 3
   },
   "file_extension": ".py",
   "mimetype": "text/x-python",
   "name": "python",
   "nbconvert_exporter": "python",
   "pygments_lexer": "ipython3",
   "version": "3.8.3"
  }
 },
 "nbformat": 4,
 "nbformat_minor": 4
}
